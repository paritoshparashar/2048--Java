{
 "cells": [
  {
   "cell_type": "markdown",
   "id": "german-casting",
   "metadata": {
    "cell_style": "center",
    "slideshow": {
     "slide_type": "slide"
    }
   },
   "source": [
    "***\n",
    "# Sequential Circuits in Chisel\n",
    "\n",
    "\n",
    "## Prof. Jan Reineke, Saarland University\n",
    "### reineke@cs.uni-saarland.de\n",
    "\n",
    "### These slides are not meant to be consumed \"stand-alone\" but rather as a companion to the corresponding \"theory\" slides.\n",
    "\n",
    "### Partially based on slides by Scott Beamer, University of California, Santa Cruz (https://github.com/agile-hw/lectures)"
   ]
  },
  {
   "cell_type": "markdown",
   "id": "positive-wrong",
   "metadata": {
    "slideshow": {
     "slide_type": "slide"
    }
   },
   "source": [
    "## Plan for Today\n",
    "\n",
    "* Registers \n",
    "* Memories \n",
    "* Finite-state machines"
   ]
  },
  {
   "cell_type": "markdown",
   "id": "regular-reducing",
   "metadata": {
    "slideshow": {
     "slide_type": "slide"
    }
   },
   "source": [
    "## Loading The Chisel Library Into a Notebook"
   ]
  },
  {
   "cell_type": "code",
   "execution_count": null,
   "id": "a6d60285",
   "metadata": {},
   "outputs": [],
   "source": [
    "interp.load.module(os.Path(s\"${System.getProperty(\"user.dir\")}/../resource/chisel_deps.sc\"))\n"
   ]
  },
  {
   "cell_type": "code",
   "execution_count": null,
   "id": "robust-immigration",
   "metadata": {},
   "outputs": [],
   "source": [
    "import ammonite.repl._\n",
    "\n",
    "import chisel3._\n",
    "import chisel3.util._ \n",
    "import chiseltest._\n",
    "import chiseltest.RawTester.test"
   ]
  },
  {
   "cell_type": "code",
   "execution_count": null,
   "id": "b6894be0",
   "metadata": {},
   "outputs": [],
   "source": [
    "repl.newCompiler\n",
    "repl.load.exec(os.Path(s\"${System.getProperty(\"user.dir\")}/../resource/deps.scala\"))"
   ]
  },
  {
   "cell_type": "markdown",
   "id": "7be09eaa",
   "metadata": {
    "slideshow": {
     "slide_type": "slide"
    }
   },
   "source": [
    "## Registers"
   ]
  },
  {
   "cell_type": "markdown",
   "id": "229f7e80",
   "metadata": {
    "cell_style": "split"
   },
   "source": [
    "* Explicitly declare a register with `Reg(type)`\n",
    "  * Contrast from Verilog where registers are synthesized\n",
    "  * `type` can be any Chisel data type, e.g. `Boolean` or `UInt`, but also vectors\n",
    "* A register is simply another block, no special semantics for time\n",
    "  * Simply need to connect its input and its output\n",
    "* `clock` and `reset` are implicit\n",
    "* Not covered in this course: functionality for using other clocks ([multi-clock](https://www.chisel-lang.org/chisel3/docs/explanations/multi-clock.html) and [asynchronous reset](https://www.chisel-lang.org/chisel3/docs/explanations/reset.html))"
   ]
  },
  {
   "cell_type": "markdown",
   "id": "bdee2c0e",
   "metadata": {
    "cell_style": "split",
    "slideshow": {
     "slide_type": "fragment"
    }
   },
   "source": [
    "<img src=\"images/reg.svg\" alt=\"register schematic\" style=\"width:100%;\" align=\"center\"/>"
   ]
  },
  {
   "cell_type": "markdown",
   "id": "fc5accf9",
   "metadata": {
    "cell_style": "split",
    "slideshow": {
     "slide_type": "slide"
    }
   },
   "source": [
    "## Flavors of `Reg`\n",
    "\n",
    "### [Set Initial Value](https://javadoc.io/doc/edu.berkeley.cs/chisel3_2.13/latest/chisel3/RegInit$.html) - `RegInit(init)`\n",
    "* Value applied synchronously when `reset` true\n",
    "\n",
    "### [Attach Input](https://javadoc.io/static/edu.berkeley.cs/chisel3_2.13/3.6.0/chisel3/RegNext$.html) - `RegNext(next, init)`\n",
    "* Like `RegInit`, but directly connects input of register\n",
    "\n",
    "### [Enable](https://javadoc.io/doc/edu.berkeley.cs/chisel3_2.13/latest/chisel3/util/RegEnable$.html) - `RegEnable(next, init, en)`\n",
    "* Like `RegNext`, but with Write enable for when to update"
   ]
  },
  {
   "cell_type": "code",
   "execution_count": null,
   "id": "a676cc53",
   "metadata": {
    "cell_style": "split"
   },
   "outputs": [],
   "source": [
    "class RegLand extends Module {\n",
    "    val io = IO(new Bundle {\n",
    "        val in  = Input(Bool())\n",
    "        val en  = Input(Bool())\n",
    "        val out = Output(Bool())\n",
    "    })\n",
    "    val r = Reg(Bool())\n",
    "//     val r = RegInit(0.B)\n",
    "    r := io.in\n",
    "    io.out := r\n",
    "//     io.out := RegNext(io.in, 0.B)\n",
    "//     io.out := RegEnable(io.in, 0.B, io.en)\n",
    "}\n",
    "visualize(() => new RegLand)"
   ]
  },
  {
   "cell_type": "markdown",
   "id": "8b6fc92d",
   "metadata": {
    "slideshow": {
     "slide_type": "slide"
    }
   },
   "source": [
    "## *Example*: Counter (done manually)\n",
    "Note this counter's behaves differently than the ``theory'' slides counter:\n",
    "* Increment value when `en` is true\n",
    "* Wrap around at `maxVal`\n",
    "* Reset to `0`\n",
    "* No ability to load particular value"
   ]
  },
  {
   "cell_type": "code",
   "execution_count": null,
   "id": "e2a56f44",
   "metadata": {},
   "outputs": [],
   "source": [
    "class MyCounter(maxVal: Int) extends Module {\n",
    "    val io = IO(new Bundle {\n",
    "        val en  = Input(Bool())\n",
    "        val out = Output(UInt())\n",
    "    })\n",
    "    val count = Reg(UInt(log2Ceil(maxVal+1).W))\n",
    "    val nextVal = Mux(count < maxVal.U, count + 1.U, 0.U)\n",
    "    val applyEn = Mux(io.en, nextVal, count)\n",
    "    count := Mux(reset.asBool, 0.U, applyEn)\n",
    "    io.out := count\n",
    "}\n",
    "visualize(() => new MyCounter(15))"
   ]
  },
  {
   "cell_type": "markdown",
   "id": "7fffdbe9",
   "metadata": {
    "slideshow": {
     "slide_type": "slide"
    }
   },
   "source": [
    "## *Example*: Counter (using RegInit)"
   ]
  },
  {
   "cell_type": "code",
   "execution_count": null,
   "id": "ab46e441",
   "metadata": {},
   "outputs": [],
   "source": [
    "class MyCounter(maxVal: Int) extends Module {\n",
    "    val io = IO(new Bundle {\n",
    "        val en  = Input(Bool())\n",
    "        val out = Output(UInt())\n",
    "    })\n",
    "    val count = RegInit(0.U(log2Ceil(maxVal+1).W))\n",
    "    val nextVal = Mux(count < maxVal.U, count + 1.U, 0.U)\n",
    "    count := Mux(io.en, nextVal, count)\n",
    "    io.out := count\n",
    "}\n",
    "visualize(() => new MyCounter(15))"
   ]
  },
  {
   "cell_type": "markdown",
   "id": "614159e3",
   "metadata": {
    "slideshow": {
     "slide_type": "slide"
    }
   },
   "source": [
    "## *Example*: Counter (using when)"
   ]
  },
  {
   "cell_type": "code",
   "execution_count": null,
   "id": "4bbaf06b",
   "metadata": {},
   "outputs": [],
   "source": [
    "class MyCounter(maxVal: Int) extends Module {\n",
    "    val io = IO(new Bundle {\n",
    "        val en  = Input(Bool())\n",
    "        val out = Output(UInt())\n",
    "    })\n",
    "    val count = RegInit(0.U(log2Ceil(maxVal+1).W))\n",
    "    when (io.en) {\n",
    "        when (count < maxVal.U) {\n",
    "            count := count + 1.U\n",
    "        } .otherwise {\n",
    "            count := 0.U\n",
    "        }\n",
    "    }\n",
    "    io.out := count\n",
    "}\n",
    "visualize(() => new MyCounter(15))"
   ]
  },
  {
   "cell_type": "markdown",
   "id": "97ad7c77",
   "metadata": {
    "slideshow": {
     "slide_type": "slide"
    }
   },
   "source": [
    "## Example: Counter (using RegEnable, too dense?)"
   ]
  },
  {
   "cell_type": "code",
   "execution_count": null,
   "id": "b0816dfd",
   "metadata": {},
   "outputs": [],
   "source": [
    "class MyCounter(maxVal: Int) extends Module {\n",
    "    val io = IO(new Bundle {\n",
    "        val en  = Input(Bool())\n",
    "        val out = Output(UInt(log2Ceil(maxVal+1).W))\n",
    "    })\n",
    "    io.out := RegEnable(Mux(io.out < maxVal.U, io.out + 1.U, 0.U), 0.U, io.en)\n",
    "}\n",
    "visualize(() => new MyCounter(15))"
   ]
  },
  {
   "cell_type": "markdown",
   "id": "97b47c1d",
   "metadata": {
    "slideshow": {
     "slide_type": "slide"
    }
   },
   "source": [
    "## Testing MyCounter"
   ]
  },
  {
   "cell_type": "code",
   "execution_count": null,
   "id": "4c244549",
   "metadata": {},
   "outputs": [],
   "source": [
    "test(new MyCounter(3)) { c =>\n",
    "    c.io.en.poke(1.B)\n",
    "    c.io.out.expect(0.U)\n",
    "    c.clock.step()\n",
    "\n",
    "    c.io.en.poke(1.B)\n",
    "    c.io.out.expect(1.U)\n",
    "    c.clock.step()\n",
    "\n",
    "    c.io.en.poke(1.B)\n",
    "    c.io.out.expect(2.U)\n",
    "    c.clock.step()\n",
    "\n",
    "    c.io.en.poke(0.B)\n",
    "    c.io.out.expect(3.U)\n",
    "    c.clock.step()\n",
    "\n",
    "    c.io.en.poke(1.B)\n",
    "    c.io.out.expect(3.U)\n",
    "    c.clock.step()\n",
    "\n",
    "    c.io.en.poke(1.B)\n",
    "    c.io.out.expect(0.U)\n",
    "    c.clock.step()\n",
    "    println(\"Success!\")\n",
    "}"
   ]
  },
  {
   "cell_type": "markdown",
   "id": "7954aa95",
   "metadata": {
    "slideshow": {
     "slide_type": "slide"
    }
   },
   "source": [
    "## $n$-Bit Decoder: Abstract Class and Tests"
   ]
  },
  {
   "cell_type": "code",
   "execution_count": null,
   "id": "c3aa5b69",
   "metadata": {},
   "outputs": [],
   "source": [
    "abstract class Decoder(noInputs: Int) extends Module {\n",
    "  val noOutputs = 1 << noInputs\n",
    "  val io = IO(new Bundle {\n",
    "    val in = Input(UInt(noInputs.W))\n",
    "    val out = Output(UInt(noOutputs.W))\n",
    "  })\n",
    "}\n",
    "\n",
    "  def randomDecoderTest(\n",
    "    decoderGen: => Decoder,\n",
    "    noInputs: Int,\n",
    "    numberOfTests: Int\n",
    "  ) = {\n",
    "    test(decoderGen) { c =>\n",
    "      val noOutputs = BigInt(1) << noInputs\n",
    "      val rand = new Random\n",
    "      for (_ <- 1 to numberOfTests) {\n",
    "        setRandomInput(c.io, rand)\n",
    "        val input = c.io.in.peekInt().toInt\n",
    "        assert(c.io.out.peek().litValue == (BigInt(1) << input))\n",
    "      }\n",
    "    }\n",
    "  }"
   ]
  },
  {
   "cell_type": "markdown",
   "id": "fccd3095",
   "metadata": {
    "slideshow": {
     "slide_type": "slide"
    }
   },
   "source": [
    "## $n$-Bit Decoder\n"
   ]
  },
  {
   "cell_type": "code",
   "execution_count": null,
   "id": "b810b428",
   "metadata": {},
   "outputs": [],
   "source": [
    "class RecursiveDecoder(noInputs: Int) extends Decoder(noInputs) {\n",
    "  if (noInputs == 1) {\n",
    "    io.out := Cat(io.in, ~io.in)\n",
    "  } else {\n",
    "    val internalDecoder = Module(new RecursiveDecoder(noInputs - 1))\n",
    "    internalDecoder.io.in := io.in(noInputs - 2, 0)\n",
    "    \n",
    "    val lowerOut = internalDecoder.io.out & Fill(noOutputs/2, ~io.in(noInputs - 1))\n",
    "    val upperOut = internalDecoder.io.out & Fill(noOutputs/2, io.in(noInputs - 1))\n",
    "    io.out := Cat(upperOut, lowerOut) \n",
    "  }\n",
    "}"
   ]
  },
  {
   "cell_type": "code",
   "execution_count": null,
   "id": "8a220bc5",
   "metadata": {},
   "outputs": [],
   "source": [
    "randomDecoderTest(new RecursiveDecoder(10), noInputs = 10, numberOfTests = 10000)"
   ]
  },
  {
   "cell_type": "markdown",
   "id": "e1bfe594",
   "metadata": {
    "slideshow": {
     "slide_type": "slide"
    }
   },
   "source": [
    "## A Simpler $n$-Bit Decoder\n",
    "... relying on built-in Chisel features:"
   ]
  },
  {
   "cell_type": "code",
   "execution_count": null,
   "id": "2f63c267",
   "metadata": {},
   "outputs": [],
   "source": [
    "class SimpleDecoder(noInputs: Int) extends Decoder(noInputs) {\n",
    "    io.out := 1.U << io.in\n",
    "}"
   ]
  },
  {
   "cell_type": "code",
   "execution_count": null,
   "id": "3d083eb5",
   "metadata": {},
   "outputs": [],
   "source": [
    "randomDecoderTest(new SimpleDecoder(10), noInputs = 10, numberOfTests = 10000)"
   ]
  },
  {
   "cell_type": "markdown",
   "id": "66ee88e0",
   "metadata": {
    "slideshow": {
     "slide_type": "slide"
    }
   },
   "source": [
    "## Memories in Chisel\n",
    "\n",
    "Cannot directly express latches in Chisel!\n",
    "\n",
    "Thus, cannot build SRAM from ``theory'' slides from scratch.\n",
    "\n",
    "However, Chisel has built-in support for memories."
   ]
  },
  {
   "cell_type": "markdown",
   "id": "93922819",
   "metadata": {
    "slideshow": {
     "slide_type": "slide"
    }
   },
   "source": [
    "## *Excursion:* Chisel `Vec`\n",
    "\n",
    "* Chisel collection construct, two uses:\n",
    "  * _Dynamic select_ in hardware (muxes) $\\neq$ Scala collection during elaboration\n",
    "  * Parameterize number of ports of a module\n",
    "* `Vec(num_elements, type)`\n",
    "\n",
    "* Use `Reg` of `Vec` for state\n",
    "  * `Vec` of `Reg` not possible\n",
    "\n",
    "```scala\n",
    "Reg(Vec(num_elements, type))\n",
    "```\n",
    "* Can also use with `Wire`\n",
    "\n",
    "```scala\n",
    "Wire(Vec(num_elements, type))\n",
    "```"
   ]
  },
  {
   "cell_type": "markdown",
   "id": "06a38af4",
   "metadata": {
    "slideshow": {
     "slide_type": "slide"
    }
   },
   "source": [
    "## *Excursion:* Chisel `Vec` -  Multiplexer"
   ]
  },
  {
   "cell_type": "code",
   "execution_count": null,
   "id": "c8d4d600",
   "metadata": {},
   "outputs": [],
   "source": [
    "class MyMuxN(n: Int, w: Int) extends Module {\n",
    "    val io = IO(new Bundle {\n",
    "        val in  = Input(Vec(n, UInt(w.W)))  // parameterize number of input ports\n",
    "        val sel = Input(UInt(log2Ceil(n).W))\n",
    "        val out = Output(UInt(w.W))\n",
    "    })\n",
    "    io.out := io.in(io.sel) //dynamic select\n",
    "}\n",
    "visualize(() => new MyMuxN(4,1))"
   ]
  },
  {
   "cell_type": "markdown",
   "id": "2ef715ea",
   "metadata": {
    "slideshow": {
     "slide_type": "slide"
    }
   },
   "source": [
    "## *Excursion*: Chisel `Vec` - Linear Reducer"
   ]
  },
  {
   "cell_type": "code",
   "execution_count": null,
   "id": "0f0effc8",
   "metadata": {
    "cell_style": "split"
   },
   "outputs": [],
   "source": [
    "class LinearReducer(n: Int, w: Int) extends Module {\n",
    "    val io = IO(new Bundle {\n",
    "        val in  = Input(Vec(n, UInt(w.W)))\n",
    "// like val in  = Input(UInt((n*w).W))\n",
    "        val out = Output(UInt(w.W))\n",
    "    })\n",
    "    require(n > 0)\n",
    "    var totalSoFar = io.in(0)\n",
    "    for (i <- 1 until n)\n",
    "        totalSoFar = io.in(i) + totalSoFar\n",
    "    io.out := totalSoFar\n",
    "}\n",
    "visualize(() => new LinearReducer(4,2))"
   ]
  },
  {
   "cell_type": "markdown",
   "id": "32b80aa2",
   "metadata": {
    "cell_style": "split"
   },
   "source": [
    "<img src=\"images/reducer.svg\" alt=\"reducer schematic\" style=\"width:65%;\" align=\"right\"/>"
   ]
  },
  {
   "cell_type": "markdown",
   "id": "e5abd7f9",
   "metadata": {},
   "source": [
    "## *Excursion*: Chisel `Vec` - Logarithmic Reducer"
   ]
  },
  {
   "cell_type": "code",
   "execution_count": null,
   "id": "16d2c66f",
   "metadata": {},
   "outputs": [],
   "source": [
    "class LogarithmicReducer(n: Int, w: Int) extends Module {\n",
    "    val io = IO(new Bundle {\n",
    "        val in  = Input(Vec(n, UInt(w.W)))\n",
    "        val out = Output(UInt(w.W))\n",
    "    })\n",
    "    require(n > 0)\n",
    "    if (n == 1) {\n",
    "        io.out := io.in(0)\n",
    "    } else {\n",
    "        val half = n/2\n",
    "        val left = Module(new LogarithmicReducer(half, w))\n",
    "        val right = Module(new LogarithmicReducer(n - half, w))\n",
    "        left.io.in := io.in.take(half)\n",
    "        right.io.in := io.in.drop(half)\n",
    "        io.out := left.io.out + right.io.out\n",
    "    }\n",
    "}\n",
    "visualize(() => new LogarithmicReducer(4,2))\n",
    "visualizeHierarchy(() => new LogarithmicReducer(4,2))"
   ]
  },
  {
   "cell_type": "markdown",
   "id": "a057db8e",
   "metadata": {
    "slideshow": {
     "slide_type": "slide"
    }
   },
   "source": [
    "## Memories in Chisel - Read-Only Memory (ROM) with `VecInit`\n",
    "* `VecInit` will create a `Wire` with its argument\n",
    "* Can also use `VecInit` to initialize registers (with `RegInit`)"
   ]
  },
  {
   "cell_type": "code",
   "execution_count": null,
   "id": "3e8cfcc4",
   "metadata": {},
   "outputs": [],
   "source": [
    "class SineTable(amplitude: Double, n: Int) extends Module {\n",
    "    val io = IO(new Bundle {\n",
    "        val in  = Input(UInt(log2Ceil(n).W))\n",
    "        val out = Output(SInt(32.W))\n",
    "    })\n",
    "\n",
    "    val times = (0 until n).map(i => (i*2*math.Pi)/n.toDouble)\n",
    "    val inits = times.map(t => math.round(amplitude * math.sin(t)).asSInt(32.W))\n",
    "    val table = VecInit(inits)\n",
    "    io.out := table(io.in)\n",
    "}"
   ]
  },
  {
   "cell_type": "code",
   "execution_count": null,
   "id": "acb96a96",
   "metadata": {},
   "outputs": [],
   "source": [
    "visualize(() => new SineTable(5, 10))"
   ]
  },
  {
   "cell_type": "markdown",
   "id": "5fd539d9",
   "metadata": {
    "slideshow": {
     "slide_type": "slide"
    }
   },
   "source": [
    "## Let's Play with `SineTable`"
   ]
  },
  {
   "cell_type": "code",
   "execution_count": null,
   "id": "defac222",
   "metadata": {},
   "outputs": [],
   "source": [
    "val samples = 20; val amplitude = 20\n",
    "test(new SineTable(amplitude, samples)) { c =>\n",
    "    for (i <- 0 until samples) {\n",
    "        c.io.in.poke(i.U)\n",
    "        val out = c.io.out.peekInt().toInt\n",
    "        println(\"*\" * (out+amplitude+1))\n",
    "    }\n",
    "}"
   ]
  },
  {
   "cell_type": "markdown",
   "id": "247d8882",
   "metadata": {
    "slideshow": {
     "slide_type": "slide"
    }
   },
   "source": [
    "## Chisel `Mem`\n",
    "\n",
    "* Construct for [memory](https://www.chisel-lang.org/chisel3/docs/explanations/memories.html) (dynamically addressable & **mutable**)\n",
    "* Backend will choose appropriate implementation technology\n",
    "* Default (Mem): _combinational read_ (0 cycle delay), _synchronous write_ (1 cycle delay)\n",
    "  * Can tweak delay parameters\n",
    "  * `SyncReadMem` and `SRAM` have 1 cycle read delay\n",
    "* Memory ports can be declared implicitly or explicitly\n",
    "* Also has support for write masks"
   ]
  },
  {
   "cell_type": "markdown",
   "id": "09c4c59e",
   "metadata": {
    "cell_style": "center",
    "slideshow": {
     "slide_type": "slide"
    }
   },
   "source": [
    "## *Example:* Register File (2R, 1W) - Implicit Ports"
   ]
  },
  {
   "cell_type": "code",
   "execution_count": null,
   "id": "ae87d1d2",
   "metadata": {
    "cell_style": "split"
   },
   "outputs": [],
   "source": [
    "class RegFile(regs: Int, bitWidth: Int) extends Module {\n",
    "    val io = IO(new Bundle {\n",
    "        val r0addr = Input(UInt(log2Ceil(regs).W))\n",
    "        val r1addr = Input(UInt(log2Ceil(regs).W))\n",
    "        val w0addr = Input(UInt(log2Ceil(regs).W))\n",
    "        val w0en =   Input(Bool())\n",
    "        val w0data = Input(UInt(bitWidth.W))\n",
    "        val r0out =  Output(UInt(bitWidth.W))\n",
    "        val r1out =  Output(UInt(bitWidth.W))\n",
    "    })\n",
    "//     val regs = Mem(regs, UInt(bitWidth.W))\n",
    "    val registers = Reg(Vec(regs, UInt(bitWidth.W)))\n",
    "    io.r0out := registers(io.r0addr)\n",
    "    io.r1out := registers(io.r1addr)\n",
    "    when(io.w0en) {\n",
    "        registers(io.w0addr) := io.w0data\n",
    "    }\n",
    "}"
   ]
  },
  {
   "cell_type": "code",
   "execution_count": null,
   "id": "f43980d7",
   "metadata": {
    "cell_style": "split"
   },
   "outputs": [],
   "source": [
    "visualize(() => new RegFile(32, 64))"
   ]
  },
  {
   "cell_type": "markdown",
   "id": "654736dd",
   "metadata": {
    "slideshow": {
     "slide_type": "slide"
    }
   },
   "source": [
    "## *Example:* Register File (2R, 1W) - Explicit Ports"
   ]
  },
  {
   "cell_type": "code",
   "execution_count": null,
   "id": "461022b4",
   "metadata": {},
   "outputs": [],
   "source": [
    "class RegFile(regs: Int, bitWidth: Int) extends Module {\n",
    "    val io = IO(new Bundle {\n",
    "        val r0addr = Input(UInt(log2Ceil(regs).W))\n",
    "        val r1addr = Input(UInt(log2Ceil(regs).W))\n",
    "        val w0addr = Input(UInt(log2Ceil(regs).W))\n",
    "        val w0en =   Input(Bool())\n",
    "        val w0data = Input(UInt(bitWidth.W))\n",
    "        val r0out =  Output(UInt(bitWidth.W))\n",
    "        val r1out =  Output(UInt(bitWidth.W))\n",
    "    })\n",
    "    val registers = Mem(regs, UInt(bitWidth.W))\n",
    "    io.r0out := registers.read(io.r0addr)\n",
    "    io.r1out := registers.read(io.r1addr)\n",
    "    when(io.w0en) {\n",
    "        registers(io.w0addr) := io.w0data\n",
    "    }\n",
    "}"
   ]
  },
  {
   "cell_type": "markdown",
   "id": "2f026348",
   "metadata": {
    "slideshow": {
     "slide_type": "slide"
    }
   },
   "source": [
    "## *Example:* Register File (NR, 1W) - Parameterized Number of Ports"
   ]
  },
  {
   "cell_type": "code",
   "execution_count": null,
   "id": "dd4173f9",
   "metadata": {},
   "outputs": [],
   "source": [
    "class RegFileParameterized(readPorts: Int, regs: Int, bitWidth: Int) extends Module {\n",
    "    val io = IO(new Bundle {\n",
    "        val raddr = Input(Vec(readPorts, UInt(log2Ceil(regs).W)))\n",
    "        val w0addr = Input(UInt(log2Ceil(regs).W))\n",
    "        val w0en =   Input(Bool())\n",
    "        val w0data = Input(UInt(bitWidth.W))\n",
    "        val rout =  Output(Vec(readPorts, UInt(bitWidth.W)))\n",
    "    })\n",
    "    val registers = Mem(regs, UInt(bitWidth.W))\n",
    "    for (i <- 0 until readPorts) {\n",
    "        io.rout(i) := registers.read(io.raddr(i))\n",
    "        // io.rout(i) := registers(io.raddr(i))  //equivalent\n",
    "    }\n",
    "    when(io.w0en) {\n",
    "        registers(io.w0addr) := io.w0data\n",
    "    }\n",
    "}"
   ]
  },
  {
   "cell_type": "code",
   "execution_count": null,
   "id": "acc1cf84",
   "metadata": {},
   "outputs": [],
   "source": [
    "visualize(() => new RegFileParameterized(4, 32, 64))"
   ]
  },
  {
   "cell_type": "markdown",
   "id": "f1e7d733",
   "metadata": {
    "slideshow": {
     "slide_type": "slide"
    }
   },
   "source": [
    "## When to Use Scala or Chisel Collection?\n",
    "\n",
    "* You will want to use a Scala collection (probably `Seq`) most often\n",
    "    * In a generator, want to instantiate N things\n",
    "    * You may need to address which thing you want, but you are accessing it during hardware generation time\n",
    "* You will need Chisel collections (`Vec`, `Mem`) when ...\n",
    "    * You want the generated hardware to dynamically address components (put muxes into actual hardware)\n",
    "    * You definitely want a memory (e.g. `Mem`, `SyncReadMem`)"
   ]
  },
  {
   "cell_type": "markdown",
   "id": "e5b0a624",
   "metadata": {
    "slideshow": {
     "slide_type": "slide"
    }
   },
   "source": [
    "## Vending Machine in Chisel\n",
    "\n",
    "Let's implement the Vending Machine in Chisel: "
   ]
  },
  {
   "cell_type": "code",
   "execution_count": null,
   "id": "a6a8c382",
   "metadata": {},
   "outputs": [],
   "source": [
    " class VendingMachine extends Module {\n",
    "    val io = IO(new Bundle {\n",
    "        val x = Input(UInt(2.W))      //00=coin, 01=return, 10=option 1, 11=option 2\n",
    "        val y = Output(UInt(2.W))     //00=no output, 01=money, 10=drink 1, 11=drink 2\n",
    "    })\n",
    "    val state = RegInit(0.B)\n",
    "    state := !io.x(0) && !io.x(1)\n",
    "    io.y := Cat(io.x(1) && state, io.x(0) && state)\n",
    "    io.y := io.x & Fill(2, state)\n",
    "}"
   ]
  },
  {
   "cell_type": "code",
   "execution_count": null,
   "id": "caea489e",
   "metadata": {},
   "outputs": [],
   "source": [
    "visualize(() => new VendingMachine)"
   ]
  },
  {
   "cell_type": "markdown",
   "id": "d484e2bd",
   "metadata": {
    "slideshow": {
     "slide_type": "slide"
    }
   },
   "source": [
    "## Let's Test the Vending Machine\n",
    "\n",
    "Test needs access to state of vending machine. However, only inputs and outputs are exposed to the tester by default.\n",
    "\n",
    "Can use (experimental) `expose` feature:"
   ]
  },
  {
   "cell_type": "code",
   "execution_count": null,
   "id": "69235880",
   "metadata": {},
   "outputs": [],
   "source": [
    "import chiseltest.experimental.{expose}\n",
    "\n",
    "class VendingMachineWrapper extends VendingMachine {\n",
    "    val exposedState = expose(state)     //accessible to tester\n",
    "}"
   ]
  },
  {
   "cell_type": "markdown",
   "id": "bf5c5e35",
   "metadata": {
    "slideshow": {
     "slide_type": "slide"
    }
   },
   "source": [
    "## Testing the Vending Machine"
   ]
  },
  {
   "cell_type": "code",
   "execution_count": null,
   "id": "0bbaad19",
   "metadata": {},
   "outputs": [],
   "source": [
    "test(new VendingMachineWrapper) { c =>\n",
    "    c.io.x.poke(\"b00\".U)        //00 = coin\n",
    "    c.io.y.expect(\"b00\".U)      //00 = no output\n",
    "    c.clock.step()\n",
    "    c.exposedState.expect(1.B)  //state = 1 = full (coin inserted)\n",
    "\n",
    "    c.io.x.poke(\"b01\".U)        //01 = return\n",
    "    c.io.y.expect(\"b01\".U)      //01 = money\n",
    "    c.clock.step()\n",
    "    c.exposedState.expect(0.B)  //state = 0 = empty (no coin inserted)\n",
    "\n",
    "    c.io.x.poke(\"b10\".U)        //10 = option 1\n",
    "    c.io.y.expect(\"b00\".U)      //00 = no output, since no coin inserted\n",
    "    c.clock.step()\n",
    "\n",
    "    c.io.x.poke(\"b00\".U)        //00 = coin\n",
    "    c.clock.step()\n",
    "    c.exposedState.expect(1.B)  //state = 1 = full (coin inserted)\n",
    "\n",
    "    c.io.x.poke(\"b10\".U)        //10 = option 1\n",
    "    c.io.y.expect(\"b10\".U)      //10 = drink 1\n",
    "    c.clock.step()\n",
    "\n",
    "    c.io.x.poke(\"b00\".U)        //00 = coin\n",
    "    c.clock.step()\n",
    "    c.io.x.poke(\"b11\".U)        //11 = option 2\n",
    "    c.io.y.expect(\"b11\".U)      //11 = drink 2   \n",
    "\n",
    "    c.clock.step()\n",
    "    c.exposedState.expect(0.B)  //state = 0 = empty (no coin inserted)  \n",
    "    println(\"Success!\")\n",
    "}"
   ]
  },
  {
   "cell_type": "markdown",
   "id": "82c4967b",
   "metadata": {
    "slideshow": {
     "slide_type": "slide"
    }
   },
   "source": [
    "## Vending Machine in Chisel - Discussion\n",
    "\n",
    "Our implementation above is very \"low-level\" and hard to *read*, *test*, and *maintain*.\n",
    "\n",
    "Let's implement a more readable version using Enums!"
   ]
  },
  {
   "cell_type": "markdown",
   "id": "2fd50bb5",
   "metadata": {},
   "source": [
    "## Enums in Chisel (`ChiselEnum`)\n",
    "\n",
    "* [`ChiselEnum`](https://javadoc.io/static/edu.berkeley.cs/chisel3_2.13/3.6.0/chisel3/ChiselEnum.html) provides [enumerations](https://www.chisel-lang.org/docs/explanations/chisel-enum) by assigning them `UInt`s (`Enumeration` is Scala)\n",
    "* Helpful for putting human-sensical names to distinct values\n",
    "* Example use cases\n",
    "  * Naming states in a state machine\n",
    "  * Labeling mux way selection options"
   ]
  },
  {
   "cell_type": "code",
   "execution_count": null,
   "id": "2c657f2a",
   "metadata": {},
   "outputs": [],
   "source": [
    "object DemoEnum extends ChiselEnum {\n",
    "  val nameA, nameB, nameC = Value\n",
    "  val nameD = Value(5.U)\n",
    "  val anotherName = Value\n",
    "}\n",
    "\n",
    "println(DemoEnum.nameA.litValue, DemoEnum.nameB.litValue, DemoEnum.nameC.litValue, DemoEnum.nameD.litValue, DemoEnum.anotherName.litValue)"
   ]
  },
  {
   "cell_type": "markdown",
   "id": "cb001e27",
   "metadata": {
    "slideshow": {
     "slide_type": "slide"
    }
   },
   "source": [
    "## Vending Machine Using Enums\n",
    "\n",
    "First, let's define appropriate ChiselEnums for inputs, outputs, and internal state:"
   ]
  },
  {
   "cell_type": "code",
   "execution_count": null,
   "id": "660adedd",
   "metadata": {},
   "outputs": [],
   "source": [
    "object VMInputs extends ChiselEnum {\n",
    "    val coin, ret, option1, option2 = Value\n",
    "}\n",
    "object VMOutputs extends ChiselEnum {\n",
    "    val noOutput, money, drink1, drink2 = Value\n",
    "}\n",
    "object VMState extends ChiselEnum {\n",
    "    val empty, full = Value\n",
    "}"
   ]
  },
  {
   "cell_type": "markdown",
   "id": "efccfed9",
   "metadata": {
    "slideshow": {
     "slide_type": "slide"
    }
   },
   "source": [
    "## Abstract Vending Machine Class"
   ]
  },
  {
   "cell_type": "code",
   "execution_count": null,
   "id": "53a2e4e2",
   "metadata": {},
   "outputs": [],
   "source": [
    "abstract class VendingMachineWithEnums extends Module {\n",
    "    val io = IO(new Bundle {\n",
    "        val input = Input(VMInputs())\n",
    "        val output = Output(VMOutputs())\n",
    "    })\n",
    "    val state = RegInit(VMState.empty)\n",
    "} "
   ]
  },
  {
   "cell_type": "markdown",
   "id": "dfec0bcd",
   "metadata": {
    "slideshow": {
     "slide_type": "slide"
    }
   },
   "source": [
    "## Vending Machine Using Enums"
   ]
  },
  {
   "cell_type": "code",
   "execution_count": null,
   "id": "da9022c0",
   "metadata": {},
   "outputs": [],
   "source": [
    "class NicerVendingMachine extends VendingMachineWithEnums {    \n",
    "    when (state === VMState.empty) {\n",
    "        when (io.input === VMInputs.coin) {\n",
    "            state := VMState.full\n",
    "        }\n",
    "        io.output := VMOutputs.noOutput\n",
    "    } .otherwise {\n",
    "        when (io.input === VMInputs.ret) {\n",
    "            io.output := VMOutputs.money\n",
    "        } .elsewhen (io.input === VMInputs.option1) {\n",
    "            io.output := VMOutputs.drink1\n",
    "        } .elsewhen (io.input === VMInputs.option2) {\n",
    "            io.output := VMOutputs.drink2\n",
    "        } .otherwise {\n",
    "            io.output := VMOutputs.noOutput\n",
    "        }\n",
    "        state := VMState.empty\n",
    "    }\n",
    "}"
   ]
  },
  {
   "cell_type": "markdown",
   "id": "dfa98518",
   "metadata": {
    "slideshow": {
     "slide_type": "slide"
    }
   },
   "source": [
    "## Testing Vending Machines\n",
    "We will build another version of the Vending Machine in a bit.\n",
    "\n",
    "So let's create a generic wrapper to expose the internal state:\n"
   ]
  },
  {
   "cell_type": "code",
   "execution_count": null,
   "id": "8bcd23bf",
   "metadata": {},
   "outputs": [],
   "source": [
    "class NicerVendingMachineWrapper(toWrap: => VendingMachineWithEnums) extends VendingMachineWithEnums {\n",
    "    val vm = Module(toWrap)\n",
    "    vm.io.input := io.input\n",
    "    io.output := vm.io.output\n",
    "    val expstate = expose(vm.state)\n",
    "}"
   ]
  },
  {
   "cell_type": "markdown",
   "id": "6fc93cbb",
   "metadata": {
    "slideshow": {
     "slide_type": "slide"
    }
   },
   "source": [
    "## Actually Testing the Vending Machine with Enums"
   ]
  },
  {
   "cell_type": "code",
   "execution_count": null,
   "id": "a160dfd0",
   "metadata": {},
   "outputs": [],
   "source": [
    "def testVendingMachineWithEnums(vm: => VendingMachineWithEnums) = {\n",
    "    test (new NicerVendingMachineWrapper(vm)) { c =>\n",
    "        c.io.input.poke(VMInputs.coin)        \n",
    "        c.io.output.expect(VMOutputs.noOutput)      \n",
    "        c.clock.step()\n",
    "        c.expstate.expect(VMState.full)  \n",
    "\n",
    "        c.io.input.poke(VMInputs.ret)        \n",
    "        c.io.output.expect(VMOutputs.money)      \n",
    "        c.clock.step()\n",
    "        c.expstate.expect(VMState.empty)  \n",
    "\n",
    "        c.io.input.poke(VMInputs.option1)        \n",
    "        c.io.output.expect(VMOutputs.noOutput)      \n",
    "        c.clock.step()\n",
    "\n",
    "        c.io.input.poke(VMInputs.coin)        \n",
    "        c.clock.step()\n",
    "        c.expstate.expect(VMState.full)  \n",
    "\n",
    "        c.io.input.poke(VMInputs.option1)        \n",
    "        c.io.output.expect(VMOutputs.drink1)   \n",
    "        c.clock.step()\n",
    "\n",
    "        c.io.input.poke(VMInputs.coin)       \n",
    "        c.clock.step()\n",
    "        c.io.input.poke(VMInputs.option2)       \n",
    "        c.io.output.expect(VMOutputs.drink2)     \n",
    "\n",
    "        c.clock.step()\n",
    "        c.expstate.expect(VMState.empty)  \n",
    "        println(\"Success!\")\n",
    "    }\n",
    "}\n",
    "\n",
    "testVendingMachineWithEnums(new NicerVendingMachine)\n"
   ]
  },
  {
   "cell_type": "markdown",
   "id": "93a70547",
   "metadata": {
    "slideshow": {
     "slide_type": "slide"
    }
   },
   "source": [
    "## An Alternative Implementation Using `switch`"
   ]
  },
  {
   "cell_type": "code",
   "execution_count": null,
   "id": "7d35a7b6",
   "metadata": {},
   "outputs": [],
   "source": [
    "class NicerVendingMachineWithSwitch extends VendingMachineWithEnums {\n",
    "    io.output := VMOutputs.noOutput     //default\n",
    "    switch(state) {\n",
    "        is (VMState.empty) {\n",
    "            when (io.input === VMInputs.coin) {\n",
    "                state := VMState.full\n",
    "            }\n",
    "            io.output := VMOutputs.noOutput\n",
    "        }\n",
    "        is (VMState.full) {\n",
    "            switch(io.input) {\n",
    "                is (VMInputs.ret) {\n",
    "                    io.output := VMOutputs.money\n",
    "                }\n",
    "                is (VMInputs.option1) {\n",
    "                    io.output := VMOutputs.drink1\n",
    "                }\n",
    "                is (VMInputs.option2) {\n",
    "                    io.output := VMOutputs.drink2\n",
    "                }\n",
    "                is (VMInputs.coin) {\n",
    "                    state := VMState.full\n",
    "                }\n",
    "            }\n",
    "            state := VMState.empty    \n",
    "        }\n",
    "    }\n",
    "}"
   ]
  },
  {
   "cell_type": "markdown",
   "id": "973ebb8f",
   "metadata": {
    "slideshow": {
     "slide_type": "slide"
    }
   },
   "source": [
    "## ... And Its Test"
   ]
  },
  {
   "cell_type": "code",
   "execution_count": null,
   "id": "b0aac122",
   "metadata": {},
   "outputs": [],
   "source": [
    "testVendingMachineWithEnums(new NicerVendingMachineWithSwitch)"
   ]
  }
 ],
 "metadata": {
  "celltoolbar": "Slideshow",
  "kernelspec": {
   "display_name": "Scala",
   "language": "scala",
   "name": "scala"
  },
  "language_info": {
   "codemirror_mode": "text/x-scala",
   "file_extension": ".sc",
   "mimetype": "text/x-scala",
   "name": "scala",
   "nbconvert_exporter": "script",
   "version": "2.13.10"
  }
 },
 "nbformat": 4,
 "nbformat_minor": 5
}
